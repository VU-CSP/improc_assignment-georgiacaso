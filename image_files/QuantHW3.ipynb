{
 "cells": [
  {
   "cell_type": "code",
   "execution_count": 6,
   "id": "9ed12dda",
   "metadata": {},
   "outputs": [],
   "source": [
    "import pandas as pd\n",
    "import numpy as np\n",
    "import seaborn as sns\n",
    "import matplotlib.pyplot as plt"
   ]
  },
  {
   "cell_type": "code",
   "execution_count": 7,
   "id": "4256d91a",
   "metadata": {},
   "outputs": [],
   "source": [
    "measurements = []\n",
    "measurements = pd.read_csv(\"Results.csv\")"
   ]
  },
  {
   "cell_type": "code",
   "execution_count": 8,
   "id": "87b8437a",
   "metadata": {},
   "outputs": [
    {
     "data": {
      "text/html": [
       "<div>\n",
       "<style scoped>\n",
       "    .dataframe tbody tr th:only-of-type {\n",
       "        vertical-align: middle;\n",
       "    }\n",
       "\n",
       "    .dataframe tbody tr th {\n",
       "        vertical-align: top;\n",
       "    }\n",
       "\n",
       "    .dataframe thead th {\n",
       "        text-align: right;\n",
       "    }\n",
       "</style>\n",
       "<table border=\"1\" class=\"dataframe\">\n",
       "  <thead>\n",
       "    <tr style=\"text-align: right;\">\n",
       "      <th></th>\n",
       "      <th></th>\n",
       "      <th>Area</th>\n",
       "      <th>Mean</th>\n",
       "      <th>Min</th>\n",
       "      <th>Max</th>\n",
       "      <th>Major</th>\n",
       "      <th>Minor</th>\n",
       "      <th>Angle</th>\n",
       "      <th>Circ.</th>\n",
       "      <th>AR</th>\n",
       "      <th>Round</th>\n",
       "      <th>Solidity</th>\n",
       "    </tr>\n",
       "  </thead>\n",
       "  <tbody>\n",
       "    <tr>\n",
       "      <th>0</th>\n",
       "      <td>1</td>\n",
       "      <td>443</td>\n",
       "      <td>255</td>\n",
       "      <td>255</td>\n",
       "      <td>255</td>\n",
       "      <td>24.954</td>\n",
       "      <td>22.603</td>\n",
       "      <td>157.624</td>\n",
       "      <td>0.881</td>\n",
       "      <td>1.104</td>\n",
       "      <td>0.906</td>\n",
       "      <td>0.934</td>\n",
       "    </tr>\n",
       "    <tr>\n",
       "      <th>1</th>\n",
       "      <td>2</td>\n",
       "      <td>290</td>\n",
       "      <td>255</td>\n",
       "      <td>255</td>\n",
       "      <td>255</td>\n",
       "      <td>21.744</td>\n",
       "      <td>16.981</td>\n",
       "      <td>2.222</td>\n",
       "      <td>0.891</td>\n",
       "      <td>1.281</td>\n",
       "      <td>0.781</td>\n",
       "      <td>0.932</td>\n",
       "    </tr>\n",
       "    <tr>\n",
       "      <th>2</th>\n",
       "      <td>3</td>\n",
       "      <td>361</td>\n",
       "      <td>255</td>\n",
       "      <td>255</td>\n",
       "      <td>255</td>\n",
       "      <td>22.670</td>\n",
       "      <td>20.275</td>\n",
       "      <td>53.014</td>\n",
       "      <td>0.821</td>\n",
       "      <td>1.118</td>\n",
       "      <td>0.894</td>\n",
       "      <td>0.914</td>\n",
       "    </tr>\n",
       "    <tr>\n",
       "      <th>3</th>\n",
       "      <td>4</td>\n",
       "      <td>466</td>\n",
       "      <td>255</td>\n",
       "      <td>255</td>\n",
       "      <td>255</td>\n",
       "      <td>25.961</td>\n",
       "      <td>22.855</td>\n",
       "      <td>13.799</td>\n",
       "      <td>0.876</td>\n",
       "      <td>1.136</td>\n",
       "      <td>0.880</td>\n",
       "      <td>0.937</td>\n",
       "    </tr>\n",
       "    <tr>\n",
       "      <th>4</th>\n",
       "      <td>5</td>\n",
       "      <td>306</td>\n",
       "      <td>255</td>\n",
       "      <td>255</td>\n",
       "      <td>255</td>\n",
       "      <td>21.304</td>\n",
       "      <td>18.288</td>\n",
       "      <td>43.094</td>\n",
       "      <td>0.887</td>\n",
       "      <td>1.165</td>\n",
       "      <td>0.858</td>\n",
       "      <td>0.930</td>\n",
       "    </tr>\n",
       "  </tbody>\n",
       "</table>\n",
       "</div>"
      ],
      "text/plain": [
       "      Area  Mean  Min  Max   Major   Minor    Angle  Circ.     AR  Round  \\\n",
       "0  1   443   255  255  255  24.954  22.603  157.624  0.881  1.104  0.906   \n",
       "1  2   290   255  255  255  21.744  16.981    2.222  0.891  1.281  0.781   \n",
       "2  3   361   255  255  255  22.670  20.275   53.014  0.821  1.118  0.894   \n",
       "3  4   466   255  255  255  25.961  22.855   13.799  0.876  1.136  0.880   \n",
       "4  5   306   255  255  255  21.304  18.288   43.094  0.887  1.165  0.858   \n",
       "\n",
       "   Solidity  \n",
       "0     0.934  \n",
       "1     0.932  \n",
       "2     0.914  \n",
       "3     0.937  \n",
       "4     0.930  "
      ]
     },
     "execution_count": 8,
     "metadata": {},
     "output_type": "execute_result"
    }
   ],
   "source": [
    "measurements.head()"
   ]
  },
  {
   "cell_type": "code",
   "execution_count": 14,
   "id": "e3774a6b",
   "metadata": {
    "scrolled": true
   },
   "outputs": [
    {
     "data": {
      "text/plain": [
       "<AxesSubplot:xlabel='Area', ylabel='Count'>"
      ]
     },
     "execution_count": 14,
     "metadata": {},
     "output_type": "execute_result"
    },
    {
     "data": {
      "image/png": "[encoded data removed]",
      "text/plain": [
       "<Figure size 432x288 with 1 Axes>"
      ]
     },
     "metadata": {},
     "output_type": "display_data"
    }
   ],
   "source": [
    "sns.histplot(data=measurements, x = \"Area\")\n"
   ]
  },
  {
   "cell_type": "code",
   "execution_count": 18,
   "id": "a4dfb2de",
   "metadata": {},
   "outputs": [
    {
     "data": {
      "text/plain": [
       "340.3189837685251"
      ]
     },
     "execution_count": 18,
     "metadata": {},
     "output_type": "execute_result"
    }
   ],
   "source": [
    "measurements['Area'].mean()"
   ]
  },
  {
   "cell_type": "code",
   "execution_count": 19,
   "id": "dc5914cf",
   "metadata": {},
   "outputs": [
    {
     "data": {
      "text/plain": [
       "71.32315760162327"
      ]
     },
     "execution_count": 19,
     "metadata": {},
     "output_type": "execute_result"
    }
   ],
   "source": [
    "measurements['Area'].std()"
   ]
  },
  {
   "cell_type": "code",
   "execution_count": null,
   "id": "920253b5",
   "metadata": {},
   "outputs": [],
   "source": [
    "#Since the distribution of the histogram is mostly bell curved since it has one single peak but is slightly right skewed.\n",
    "#I would broaden the range to incorporate larger particle sizes since there are still quite a few particles in the 500 area range."
   ]
  }
 ],
 "metadata": {
  "kernelspec": {
   "display_name": "Python 3 (ipykernel)",
   "language": "python",
   "name": "python3"
  },
  "language_info": {
   "codemirror_mode": {
    "name": "ipython",
    "version": 3
   },
   "file_extension": ".py",
   "mimetype": "text/x-python",
   "name": "python",
   "nbconvert_exporter": "python",
   "pygments_lexer": "ipython3",
   "version": "3.9.12"
  }
 },
 "nbformat": 4,
 "nbformat_minor": 5
}
